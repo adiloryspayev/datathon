{
 "cells": [
  {
   "cell_type": "code",
   "execution_count": 6,
   "id": "c6dba262-6487-4dc4-aa20-668478c88691",
   "metadata": {},
   "outputs": [],
   "source": [
    "import pandas as pd\n",
    "df1 = pd.read_csv(\"parcel.csv\")\n",
    "df2 = pd.read_csv(\"parking.csv\")\n",
    "df3 = pd.read_csv(\"cityline.csv\")"
   ]
  },
  {
   "cell_type": "code",
   "execution_count": 16,
   "id": "40711478-6016-40b4-a1b9-8bedf994deff",
   "metadata": {},
   "outputs": [
    {
     "ename": "TypeError",
     "evalue": "'Index' object is not callable",
     "output_type": "error",
     "traceback": [
      "\u001b[0;31m---------------------------------------------------------------------------\u001b[0m",
      "\u001b[0;31mTypeError\u001b[0m                                 Traceback (most recent call last)",
      "Cell \u001b[0;32mIn[16], line 1\u001b[0m\n\u001b[0;32m----> 1\u001b[0m df1\u001b[38;5;241m.\u001b[39mcolumns()\n",
      "\u001b[0;31mTypeError\u001b[0m: 'Index' object is not callable"
     ]
    }
   ],
   "source": [
    "df1.columns()"
   ]
  },
  {
   "cell_type": "code",
   "execution_count": 18,
   "id": "986e3ceb-729c-4d4f-842a-5ce55f8db660",
   "metadata": {
    "scrolled": true
   },
   "outputs": [
    {
     "data": {
      "text/plain": [
       "('Columns in cityline.csv:',\n",
       " ['X',\n",
       "  'Y',\n",
       "  'Id',\n",
       "  'Summary',\n",
       "  'Rating',\n",
       "  'Address',\n",
       "  'Description',\n",
       "  'Agency_Name',\n",
       "  'Request_type',\n",
       "  'Lat',\n",
       "  'Lng',\n",
       "  'Created_at_local',\n",
       "  'Acknowledged_at_local',\n",
       "  'Closed_at_local',\n",
       "  'Minutes_to_Acknowledge',\n",
       "  'Minutes_to_Close',\n",
       "  'Assignee_name',\n",
       "  'Category',\n",
       "  'Sla_in_hours',\n",
       "  'Report_Source',\n",
       "  'ObjectId'])"
      ]
     },
     "execution_count": 18,
     "metadata": {},
     "output_type": "execute_result"
    }
   ],
   "source": [
    "\"Columns in parcel.csv:\", df1.columns.tolist()\n",
    "\"Columns in parking.csv:\", df2.columns.tolist()\n",
    "\"Columns in cityline.csv:\", df3.columns.tolist()"
   ]
  },
  {
   "cell_type": "code",
   "execution_count": 20,
   "id": "6e1d94a1-ecb7-4b13-9205-a42f334a337d",
   "metadata": {},
   "outputs": [
    {
     "data": {
      "text/plain": [
       "('Columns in parcel.csv:',\n",
       " ['FID',\n",
       "  'TAX_ID',\n",
       "  'SHAPE_Leng',\n",
       "  'SHAPE_Area',\n",
       "  'PRINTKEY',\n",
       "  'ADDRESSNUM',\n",
       "  'ADDRESSNAM',\n",
       "  'TAX_ID_1',\n",
       "  'SBL',\n",
       "  'PNUMBR',\n",
       "  'StNum',\n",
       "  'StName',\n",
       "  'FullAddres',\n",
       "  'Zip',\n",
       "  'desc_1',\n",
       "  'desc_2',\n",
       "  'desc_3',\n",
       "  'SHAPE_IND',\n",
       "  'LUC_parcel',\n",
       "  'LU_parcel',\n",
       "  'LUCat_Old',\n",
       "  'land_av',\n",
       "  'total_av',\n",
       "  'Owner',\n",
       "  'Add1_OwnPO',\n",
       "  'Add2_OwnSt',\n",
       "  'Add3_OwnUn',\n",
       "  'Add4_OwnCi',\n",
       "  'FRONT',\n",
       "  'DEPTH',\n",
       "  'ACRES',\n",
       "  'yr_built',\n",
       "  'n_ResUnits',\n",
       "  'IPSVacant',\n",
       "  'IPS_Condit',\n",
       "  'NREligible',\n",
       "  'LPSS',\n",
       "  'WTR_ACTIVE',\n",
       "  'RNI',\n",
       "  'DPW_Quad',\n",
       "  'DPW_Sani',\n",
       "  'DPW_Recycl',\n",
       "  'TNT_NAME',\n",
       "  'NHOOD',\n",
       "  'NRSA',\n",
       "  'DOCE_Insp1',\n",
       "  'DOCE_Insp2',\n",
       "  'DOCE_Permi',\n",
       "  'DOCE_Comm',\n",
       "  'FIRE_DIST',\n",
       "  'ZONE_DIST_',\n",
       "  'REZONE',\n",
       "  'CC_DIST',\n",
       "  'CTID_2020',\n",
       "  'CTLAB_2020',\n",
       "  'CT_2020',\n",
       "  'SpecNhood',\n",
       "  'InPD',\n",
       "  'PDNAME',\n",
       "  'ELECT_DIST',\n",
       "  'CITY_WARD',\n",
       "  'COUNTY_LEG',\n",
       "  'NYS_ASSEMB',\n",
       "  'NYS_SENATE',\n",
       "  'US_CONGR',\n",
       "  'LAT',\n",
       "  'LONG',\n",
       "  'Shape__Area',\n",
       "  'Shape__Length'])"
      ]
     },
     "execution_count": 20,
     "metadata": {},
     "output_type": "execute_result"
    }
   ],
   "source": [
    "\"Columns in parcel.csv:\", df1.columns.tolist()"
   ]
  },
  {
   "cell_type": "code",
   "execution_count": 22,
   "id": "ad948fa2-ee6e-4051-b9ef-371fcafbc6fb",
   "metadata": {},
   "outputs": [
    {
     "data": {
      "text/plain": [
       "('Columns in parking.csv:',\n",
       " ['X',\n",
       "  'Y',\n",
       "  'ticket_number',\n",
       "  'issued_date',\n",
       "  'location',\n",
       "  'description',\n",
       "  'status',\n",
       "  'amount',\n",
       "  'LONG',\n",
       "  'LAT',\n",
       "  'ObjectId'])"
      ]
     },
     "execution_count": 22,
     "metadata": {},
     "output_type": "execute_result"
    }
   ],
   "source": [
    "\"Columns in parking.csv:\", df2.columns.tolist()"
   ]
  },
  {
   "cell_type": "code",
   "execution_count": 24,
   "id": "5b359f85-33f0-4e5c-98be-f269f6a6a759",
   "metadata": {},
   "outputs": [
    {
     "data": {
      "text/plain": [
       "('Columns in cityline.csv:',\n",
       " ['X',\n",
       "  'Y',\n",
       "  'Id',\n",
       "  'Summary',\n",
       "  'Rating',\n",
       "  'Address',\n",
       "  'Description',\n",
       "  'Agency_Name',\n",
       "  'Request_type',\n",
       "  'Lat',\n",
       "  'Lng',\n",
       "  'Created_at_local',\n",
       "  'Acknowledged_at_local',\n",
       "  'Closed_at_local',\n",
       "  'Minutes_to_Acknowledge',\n",
       "  'Minutes_to_Close',\n",
       "  'Assignee_name',\n",
       "  'Category',\n",
       "  'Sla_in_hours',\n",
       "  'Report_Source',\n",
       "  'ObjectId'])"
      ]
     },
     "execution_count": 24,
     "metadata": {},
     "output_type": "execute_result"
    }
   ],
   "source": [
    "\"Columns in cityline.csv:\", df3.columns.tolist()"
   ]
  },
  {
   "cell_type": "code",
   "execution_count": null,
   "id": "94d0eb85-8dca-44d1-8240-df25aec92cc9",
   "metadata": {},
   "outputs": [],
   "source": []
  }
 ],
 "metadata": {
  "kernelspec": {
   "display_name": "Python 3 (ipykernel)",
   "language": "python",
   "name": "python3"
  },
  "language_info": {
   "codemirror_mode": {
    "name": "ipython",
    "version": 3
   },
   "file_extension": ".py",
   "mimetype": "text/x-python",
   "name": "python",
   "nbconvert_exporter": "python",
   "pygments_lexer": "ipython3",
   "version": "3.12.7"
  }
 },
 "nbformat": 4,
 "nbformat_minor": 5
}
